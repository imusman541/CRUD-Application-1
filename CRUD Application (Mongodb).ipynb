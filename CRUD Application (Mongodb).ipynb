{
 "cells": [
  {
   "cell_type": "code",
   "execution_count": 1,
   "id": "outdoor-terminology",
   "metadata": {},
   "outputs": [
    {
     "name": "stdout",
     "output_type": "stream",
     "text": [
      "Collecting pymongo\n",
      "  Downloading pymongo-3.11.3-cp38-cp38-win_amd64.whl (383 kB)\n",
      "Installing collected packages: pymongo\n",
      "Successfully installed pymongo-3.11.3\n",
      "Note: you may need to restart the kernel to use updated packages.\n"
     ]
    }
   ],
   "source": [
    "pip install pymongo"
   ]
  },
  {
   "cell_type": "code",
   "execution_count": 12,
   "id": "buried-knock",
   "metadata": {},
   "outputs": [],
   "source": [
    "import pymongo\n",
    "\n",
    "client = pymongo.MongoClient(\"localhost\",27017) # to connect to Mongodb Server\n",
    "\n",
    "database = client.mongodb_workshop # creating the database\n",
    "collection = database.collection['printer_collection'] # creating the collection"
   ]
  },
  {
   "cell_type": "code",
   "execution_count": 25,
   "id": "laden-briefs",
   "metadata": {},
   "outputs": [],
   "source": [
    "printer_d = {'printer_name': 'X Printer Co', 'printer_model': 2017, 'price': 1000.00}\n",
    "printer_b = {'printer_name': 'Y Printer Co', 'printer_model': 2018, 'price': 2000.00}\n",
    "printer_c = {'printer_name': 'Z Printer Co', 'printer_model': 2019, 'price': 3000.00}"
   ]
  },
  {
   "cell_type": "markdown",
   "id": "eight-universe",
   "metadata": {},
   "source": [
    "### Insert"
   ]
  },
  {
   "cell_type": "code",
   "execution_count": 26,
   "id": "greater-district",
   "metadata": {},
   "outputs": [
    {
     "data": {
      "text/plain": [
       "<pymongo.results.InsertOneResult at 0x25efa3c44c0>"
      ]
     },
     "execution_count": 26,
     "metadata": {},
     "output_type": "execute_result"
    }
   ],
   "source": [
    "collection.insert_one(printer_d) # inserting 1 document"
   ]
  },
  {
   "cell_type": "code",
   "execution_count": 28,
   "id": "emerging-checklist",
   "metadata": {},
   "outputs": [
    {
     "data": {
      "text/plain": [
       "<pymongo.results.InsertManyResult at 0x25efa5cef80>"
      ]
     },
     "execution_count": 28,
     "metadata": {},
     "output_type": "execute_result"
    }
   ],
   "source": [
    "collection.insert_many([printer_b,printer_c]) # inserting more than 1 document"
   ]
  },
  {
   "cell_type": "markdown",
   "id": "limited-burden",
   "metadata": {},
   "source": [
    "### Reading the document"
   ]
  },
  {
   "cell_type": "code",
   "execution_count": 71,
   "id": "opponent-sector",
   "metadata": {},
   "outputs": [
    {
     "name": "stdout",
     "output_type": "stream",
     "text": [
      "{'_id': ObjectId('607056c40b39d52294ecf553'), 'printer_name': 'Y Printer Co', 'printer_model': 2018, 'price': 2000.0}\n",
      "------------------------------------------------------------------------------------------\n",
      "{'_id': ObjectId('607055e60b39d52294ecf551'), 'printer_name': 'X Printer Co', 'printer_model': 2017, 'price': 1000.0}\n",
      "{'_id': ObjectId('607056b40b39d52294ecf552'), 'printer_name': 'X Printer Co', 'printer_model': 2017, 'price': 1000.0}\n",
      "{'_id': ObjectId('607056c40b39d52294ecf553'), 'printer_name': 'Y Printer Co', 'printer_model': 2018, 'price': 2000.0}\n",
      "{'_id': ObjectId('607056c40b39d52294ecf554'), 'printer_name': 'Z Printer Co', 'printer_model': 2019, 'price': 3000.0}\n"
     ]
    }
   ],
   "source": [
    "query = collection.find_one({'printer_name':'Y Printer Co'})\n",
    "print(query)\n",
    "print(\"------------------------------------------------------------------------------------------\")\n",
    "query1 = collection.find()\n",
    "for item in query1:\n",
    "    print(item)"
   ]
  },
  {
   "cell_type": "markdown",
   "id": "individual-feature",
   "metadata": {},
   "source": [
    "### Updating the document"
   ]
  },
  {
   "cell_type": "code",
   "execution_count": 86,
   "id": "administrative-excerpt",
   "metadata": {},
   "outputs": [
    {
     "name": "stdout",
     "output_type": "stream",
     "text": [
      "{'_id': ObjectId('607055e60b39d52294ecf551'), 'printer_name': 'X Printer Co', 'printer_model': 2017, 'price': 1000.0}\n",
      "{'_id': ObjectId('607056b40b39d52294ecf552'), 'printer_name': 'X Printer Co', 'printer_model': 2017, 'price': 1000.0}\n",
      "{'_id': ObjectId('607056c40b39d52294ecf553'), 'printer_name': 'Y Printer Co', 'printer_model': 2018, 'price': 2000.0}\n",
      "{'_id': ObjectId('607056c40b39d52294ecf554'), 'printer_name': 'Z Printer Co', 'printer_model': 2019, 'price': 3000.0}\n"
     ]
    }
   ],
   "source": [
    "doc_update = {'printer_name':'Y Printer Co'}\n",
    "val_update = {'$set': {'printer_model': 2018}}\n",
    "collection.update_one(doc_update,val_update)  # updating 1 document\n",
    "\n",
    "doc_update = {'printer_name':'X Printer Co'}\n",
    "val_update = {'$set': {'printer_model': 2017}}\n",
    "collection.update_many(doc_update,val_update)   # updating more than 1 document\n",
    "query1 = collection.find()\n",
    "for item in query1:\n",
    "    print(item)"
   ]
  },
  {
   "cell_type": "markdown",
   "id": "grateful-processing",
   "metadata": {},
   "source": [
    "### Deleting the document"
   ]
  },
  {
   "cell_type": "code",
   "execution_count": 89,
   "id": "following-might",
   "metadata": {},
   "outputs": [
    {
     "name": "stdout",
     "output_type": "stream",
     "text": [
      "{'_id': ObjectId('607056c40b39d52294ecf553'), 'printer_name': 'Y Printer Co', 'printer_model': 2018, 'price': 2000.0}\n",
      "{'_id': ObjectId('607056c40b39d52294ecf554'), 'printer_name': 'Z Printer Co', 'printer_model': 2019, 'price': 3000.0}\n"
     ]
    }
   ],
   "source": [
    "del_doc = {'printer_name':'X Printer Co'}\n",
    "collection.delete_many(del_doc)  # deleting more than 1 document\n",
    "query1 = collection.find()\n",
    "for item in query1:\n",
    "    print(item)"
   ]
  },
  {
   "cell_type": "code",
   "execution_count": null,
   "id": "gorgeous-bangladesh",
   "metadata": {},
   "outputs": [],
   "source": []
  }
 ],
 "metadata": {
  "kernelspec": {
   "display_name": "Python 3",
   "language": "python",
   "name": "python3"
  },
  "language_info": {
   "codemirror_mode": {
    "name": "ipython",
    "version": 3
   },
   "file_extension": ".py",
   "mimetype": "text/x-python",
   "name": "python",
   "nbconvert_exporter": "python",
   "pygments_lexer": "ipython3",
   "version": "3.8.5"
  }
 },
 "nbformat": 4,
 "nbformat_minor": 5
}
